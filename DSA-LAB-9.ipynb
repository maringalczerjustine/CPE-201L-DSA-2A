{
  "nbformat": 4,
  "nbformat_minor": 0,
  "metadata": {
    "colab": {
      "provenance": [],
      "authorship_tag": "ABX9TyMR7ecBD19RzvyHErhPDzKI",
      "include_colab_link": true
    },
    "kernelspec": {
      "name": "python3",
      "display_name": "Python 3"
    },
    "language_info": {
      "name": "python"
    }
  },
  "cells": [
    {
      "cell_type": "markdown",
      "metadata": {
        "id": "view-in-github",
        "colab_type": "text"
      },
      "source": [
        "<a href=\"https://colab.research.google.com/github/maringalczerjustine/CPE-201L-DSA-2A/blob/main/DSA-LAB-9.ipynb\" target=\"_parent\"><img src=\"https://colab.research.google.com/assets/colab-badge.svg\" alt=\"Open In Colab\"/></a>"
      ]
    },
    {
      "cell_type": "code",
      "execution_count": 2,
      "metadata": {
        "colab": {
          "base_uri": "https://localhost:8080/"
        },
        "id": "N1YdPhD4SGhq",
        "outputId": "5231c326-efe9-4ef7-ccb7-21ad0c6eae4b"
      },
      "outputs": [
        {
          "output_type": "stream",
          "name": "stdout",
          "text": [
            "Linked List Queue Implementation\n",
            "Enqueued Element: 1\n",
            "Enqueued Element: 2\n",
            "Enqueued Element: 3\n",
            "Enqueued Element: 4\n",
            "Enqueued Element: 5\n",
            "The elements in the queue are: ['1', '2', '3', '4', '5']\n",
            "\n",
            "Dequeue operations:\n",
            "Dequeued Element: 1\n",
            "Dequeued Element: 2\n",
            "The elements in the queue after dequeue: ['3', '4', '5']\n",
            "First element: 3\n",
            "Is queue empty? False\n",
            "Queue length: 3\n"
          ]
        }
      ],
      "source": [
        "# Queue implementation using linked list\n",
        "\n",
        "class Node:\n",
        "    def __init__(self, data):\n",
        "        self.data = data\n",
        "        self.next = None\n",
        "\n",
        "class LinkedListQueue:\n",
        "    def __init__(self):\n",
        "        self.front = None\n",
        "        self.rear = None\n",
        "        self.size = 0\n",
        "\n",
        "    def is_empty(self):\n",
        "        return self.front is None\n",
        "\n",
        "    def enqueue(self, item):\n",
        "        new_node = Node(item)\n",
        "        if self.rear is None:\n",
        "            self.front = self.rear = new_node\n",
        "        else:\n",
        "            self.rear.next = new_node\n",
        "            self.rear = new_node\n",
        "        self.size += 1\n",
        "        print(\"Enqueued Element: \" + str(item))\n",
        "\n",
        "    def dequeue(self):\n",
        "        if self.is_empty():\n",
        "            return \"The queue is empty\"\n",
        "        temp = self.front\n",
        "        self.front = temp.next\n",
        "        if self.front is None:\n",
        "            self.rear = None\n",
        "        self.size -= 1\n",
        "        return temp.data\n",
        "\n",
        "    def first(self):\n",
        "        if self.is_empty():\n",
        "            return \"The queue is empty\"\n",
        "        return self.front.data\n",
        "\n",
        "    def __len__(self):\n",
        "        return self.size\n",
        "\n",
        "    def display(self):\n",
        "        elements = []\n",
        "        current = self.front\n",
        "        while current:\n",
        "            elements.append(current.data)\n",
        "            current = current.next\n",
        "        return elements\n",
        "\n",
        "# Testing linked list queue implementation\n",
        "print(\"Linked List Queue Implementation\")\n",
        "\n",
        "ll_queue = LinkedListQueue()\n",
        "ll_queue.enqueue(str(1))\n",
        "ll_queue.enqueue(str(2))\n",
        "ll_queue.enqueue(str(3))\n",
        "ll_queue.enqueue(str(4))\n",
        "ll_queue.enqueue(str(5))\n",
        "\n",
        "print(\"The elements in the queue are: \"+ str(ll_queue.display()))\n",
        "\n",
        "print(\"\\nDequeue operations:\")\n",
        "print(\"Dequeued Element: \" + ll_queue.dequeue())\n",
        "print(\"Dequeued Element: \" + ll_queue.dequeue())\n",
        "\n",
        "print(\"The elements in the queue after dequeue: \"+ str(ll_queue.display()))\n",
        "print(\"First element: \" + ll_queue.first())\n",
        "print(\"Is queue empty? \" + str(ll_queue.is_empty()))\n",
        "print(\"Queue length: \" + str(len(ll_queue)))"
      ]
    }
  ]
}
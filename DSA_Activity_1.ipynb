{
  "nbformat": 4,
  "nbformat_minor": 0,
  "metadata": {
    "colab": {
      "provenance": [],
      "authorship_tag": "ABX9TyMRWoDO1rCXm0iOVmaAP9E5",
      "include_colab_link": true
    },
    "kernelspec": {
      "name": "python3",
      "display_name": "Python 3"
    },
    "language_info": {
      "name": "python"
    }
  },
  "cells": [
    {
      "cell_type": "markdown",
      "metadata": {
        "id": "view-in-github",
        "colab_type": "text"
      },
      "source": [
        "<a href=\"https://colab.research.google.com/github/maringalczerjustine/CPE-201L-DSA-2A/blob/main/DSA_Activity_1.ipynb\" target=\"_parent\"><img src=\"https://colab.research.google.com/assets/colab-badge.svg\" alt=\"Open In Colab\"/></a>"
      ]
    },
    {
      "cell_type": "markdown",
      "source": [
        "**ALGORITHM**"
      ],
      "metadata": {
        "id": "Tcj3aqNt9Wo-"
      }
    },
    {
      "cell_type": "markdown",
      "source": [
        "Compute the area of the circle"
      ],
      "metadata": {
        "id": "acJpPMKg9QtA"
      }
    },
    {
      "cell_type": "code",
      "source": [
        "r = float(input(\"Enter the radius of the circle: \"))\n",
        "Area = 3.14 * r * r\n",
        "Circumference = 2 * 3.14 * r\n",
        "print(\"The area of the circle is: \", Area)\n",
        "print(\"The circumference of the circle is: \", Circumference)"
      ],
      "metadata": {
        "colab": {
          "base_uri": "https://localhost:8080/"
        },
        "id": "uiIJX5bj9ppM",
        "outputId": "86611528-80a4-4eac-dcc5-9709fbc3e279"
      },
      "execution_count": 1,
      "outputs": [
        {
          "output_type": "stream",
          "name": "stdout",
          "text": [
            "Enter the radius of the circle: 4\n",
            "The area of the circle is:  50.24\n",
            "The circumference of the circle is:  25.12\n"
          ]
        }
      ]
    },
    {
      "cell_type": "code",
      "source": [
        "d = float(input(\"Enter the diameter of the circle: \"))\n",
        "r = d/2\n",
        "Area = 3.14 * r * r\n",
        "Circumference = 2 * 3.14 * r\n",
        "print(\"The area of the circle is: \", Area)\n",
        "print(\"The circumference of the circle is: \", Circumference)"
      ],
      "metadata": {
        "colab": {
          "base_uri": "https://localhost:8080/"
        },
        "id": "idSWPtZr9tA7",
        "outputId": "5467f456-2228-406b-8882-5e91f5600bab"
      },
      "execution_count": 2,
      "outputs": [
        {
          "output_type": "stream",
          "name": "stdout",
          "text": [
            "Enter the diameter of the circle: 8\n",
            "The area of the circle is:  50.24\n",
            "The circumference of the circle is:  25.12\n"
          ]
        }
      ]
    }
  ]
}
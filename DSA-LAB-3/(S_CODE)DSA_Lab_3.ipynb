{
  "nbformat": 4,
  "nbformat_minor": 0,
  "metadata": {
    "colab": {
      "provenance": [],
      "authorship_tag": "ABX9TyO5vW1n8WvpUPPkW0aiiv/7",
      "include_colab_link": true
    },
    "kernelspec": {
      "name": "python3",
      "display_name": "Python 3"
    },
    "language_info": {
      "name": "python"
    }
  },
  "cells": [
    {
      "cell_type": "markdown",
      "metadata": {
        "id": "view-in-github",
        "colab_type": "text"
      },
      "source": [
        "<a href=\"https://colab.research.google.com/github/maringalczerjustine/CPE-201L-DSA-2A/blob/main/(S_CODE)DSA_Lab_3.ipynb\" target=\"_parent\"><img src=\"https://colab.research.google.com/assets/colab-badge.svg\" alt=\"Open In Colab\"/></a>"
      ]
    },
    {
      "cell_type": "code",
      "execution_count": 6,
      "metadata": {
        "colab": {
          "base_uri": "https://localhost:8080/"
        },
        "id": "gVkYaBKU-4_S",
        "outputId": "3d0e49b0-2d5e-4381-bb0c-0e29401aa1d3"
      },
      "outputs": [
        {
          "output_type": "stream",
          "name": "stdout",
          "text": [
            "Original list of integers: [26, 49, 98, 87, 62, 75]\n",
            "Sum of even test scores: 186\n"
          ]
        }
      ],
      "source": [
        "scores = [26, 49, 98, 87, 62, 75]\n",
        "sum_even_scores = 0\n",
        "for score in scores:\n",
        "    if score % 2 == 0:\n",
        "        sum_even_scores += score\n",
        "print(\"Original list of integers:\", scores)\n",
        "print(\"Sum of even test scores:\", sum_even_scores)"
      ]
    },
    {
      "cell_type": "markdown",
      "source": [
        "**Without even numbers.**"
      ],
      "metadata": {
        "id": "GHm55dMqlCk-"
      }
    },
    {
      "cell_type": "code",
      "source": [
        "scores = [27, 49, 99, 87, 63, 75]\n",
        "sum_even_scores = 0\n",
        "for score in scores:\n",
        "    if score % 2 == 0:\n",
        "        sum_even_scores += score\n",
        "print(\"Original list of integers:\", scores)\n",
        "print(\"Sum of even test scores:\", sum_even_scores)"
      ],
      "metadata": {
        "colab": {
          "base_uri": "https://localhost:8080/"
        },
        "id": "oyzVgwY0k3Eh",
        "outputId": "358cd8b5-ea07-429c-a533-e8471d0775fe"
      },
      "execution_count": 7,
      "outputs": [
        {
          "output_type": "stream",
          "name": "stdout",
          "text": [
            "Original list of integers: [27, 49, 99, 87, 63, 75]\n",
            "Sum of even test scores: 0\n"
          ]
        }
      ]
    }
  ]
}

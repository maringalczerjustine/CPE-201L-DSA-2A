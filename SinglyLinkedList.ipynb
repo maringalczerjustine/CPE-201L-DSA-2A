{
  "nbformat": 4,
  "nbformat_minor": 0,
  "metadata": {
    "colab": {
      "provenance": [],
      "authorship_tag": "ABX9TyMIGKttKtQUq1MiISB7Hyqf",
      "include_colab_link": true
    },
    "kernelspec": {
      "name": "python3",
      "display_name": "Python 3"
    },
    "language_info": {
      "name": "python"
    }
  },
  "cells": [
    {
      "cell_type": "markdown",
      "metadata": {
        "id": "view-in-github",
        "colab_type": "text"
      },
      "source": [
        "<a href=\"https://colab.research.google.com/github/maringalczerjustine/CPE-201L-DSA-2A/blob/main/SinglyLinkedList.ipynb\" target=\"_parent\"><img src=\"https://colab.research.google.com/assets/colab-badge.svg\" alt=\"Open In Colab\"/></a>"
      ]
    },
    {
      "cell_type": "code",
      "execution_count": 1,
      "metadata": {
        "colab": {
          "base_uri": "https://localhost:8080/"
        },
        "id": "8eWIfb8vUhoz",
        "outputId": "13961157-bf29-44cf-f1ca-63da4f1e22f6"
      },
      "outputs": [
        {
          "output_type": "stream",
          "name": "stdout",
          "text": [
            "Prime numbers less than 20 are:\n",
            "2 3 5 7 11 13 17 19 \n",
            "Head of the list: 2\n",
            "Tail of the list: 19\n"
          ]
        }
      ],
      "source": [
        "class Node:\n",
        "    def __init__(self, data):\n",
        "        self.data = data\n",
        "        self.next = None\n",
        "\n",
        "class LinkedList:\n",
        "    def __init__(self):\n",
        "        self.head = None\n",
        "\n",
        "    def add(self, data):\n",
        "        new_node = Node(data)\n",
        "        if self.head == None:\n",
        "            self.head = new_node\n",
        "        else:\n",
        "            temp = self.head\n",
        "            while temp.next != None:\n",
        "                temp = temp.next\n",
        "            temp.next = new_node\n",
        "\n",
        "    def display(self):\n",
        "        temp = self.head\n",
        "        while temp != None:\n",
        "            print(temp.data, end=\" \")\n",
        "            temp = temp.next\n",
        "        print()\n",
        "\n",
        "    def get_head(self):\n",
        "        if self.head != None:\n",
        "            return self.head.data\n",
        "        else:\n",
        "            return None\n",
        "\n",
        "    def get_tail(self):\n",
        "        if self.head == None:\n",
        "            return None\n",
        "        temp = self.head\n",
        "        while temp.next != None:\n",
        "            temp = temp.next\n",
        "        return temp.data\n",
        "\n",
        "# function to check prime\n",
        "def is_prime(n):\n",
        "    if n < 2:\n",
        "        return False\n",
        "    for i in range(2, int(n**0.5)+1):\n",
        "        if n % i == 0:\n",
        "            return False\n",
        "    return True\n",
        "\n",
        "# main\n",
        "mylist = LinkedList()\n",
        "for i in range(20):\n",
        "    if is_prime(i):\n",
        "        mylist.add(i)\n",
        "\n",
        "print(\"Prime numbers less than 20 are:\")\n",
        "mylist.display()\n",
        "print(\"Head of the list:\", mylist.get_head())\n",
        "print(\"Tail of the list:\", mylist.get_tail())"
      ]
    }
  ]
}
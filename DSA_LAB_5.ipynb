{
  "nbformat": 4,
  "nbformat_minor": 0,
  "metadata": {
    "colab": {
      "provenance": [],
      "authorship_tag": "ABX9TyP1PHkYIsA9zOylvFz37dGZ",
      "include_colab_link": true
    },
    "kernelspec": {
      "name": "python3",
      "display_name": "Python 3"
    },
    "language_info": {
      "name": "python"
    }
  },
  "cells": [
    {
      "cell_type": "markdown",
      "metadata": {
        "id": "view-in-github",
        "colab_type": "text"
      },
      "source": [
        "<a href=\"https://colab.research.google.com/github/maringalczerjustine/CPE-201L-DSA-2A/blob/main/DSA_LAB_5.ipynb\" target=\"_parent\"><img src=\"https://colab.research.google.com/assets/colab-badge.svg\" alt=\"Open In Colab\"/></a>"
      ]
    },
    {
      "cell_type": "markdown",
      "source": [
        "**•\tWrite a Python program to create an array of 10 integers and display the array items. Access individual elements through indexes and compute for the sum.**"
      ],
      "metadata": {
        "id": "W31lL2LaNHOu"
      }
    },
    {
      "cell_type": "markdown",
      "source": [
        "Import and Create Array"
      ],
      "metadata": {
        "id": "E-7NXyPnNVfj"
      }
    },
    {
      "cell_type": "code",
      "execution_count": 3,
      "metadata": {
        "colab": {
          "base_uri": "https://localhost:8080/"
        },
        "id": "_3Gv6rjKJtx9",
        "outputId": "f66c60ec-180f-44a0-9655-c83b195b0bd2"
      },
      "outputs": [
        {
          "output_type": "stream",
          "name": "stdout",
          "text": [
            "Array Items: array('i', [1, 2, 3, 4, 5, 6, 7, 8, 9, 10])\n"
          ]
        }
      ],
      "source": [
        "import array\n",
        "\n",
        "numbers = array.array('i', [1,2,3,4,5,6,7,8,9,10])\n",
        "print(\"Array Items:\",numbers)"
      ]
    },
    {
      "cell_type": "markdown",
      "source": [
        "Access Individual Elements"
      ],
      "metadata": {
        "id": "p7xyZZxNNbVd"
      }
    },
    {
      "cell_type": "code",
      "source": [
        "print(\"Individual Elements:\")\n",
        "for i in range(len(numbers)):\n",
        "  print(f\"Element at Index {i}: {numbers[i]}\")"
      ],
      "metadata": {
        "colab": {
          "base_uri": "https://localhost:8080/"
        },
        "id": "bD2U8X8lKvX4",
        "outputId": "535eb67e-7225-435b-dbd9-99ea5520b764"
      },
      "execution_count": 9,
      "outputs": [
        {
          "output_type": "stream",
          "name": "stdout",
          "text": [
            "Individual Elements:\n",
            "Element at Index 0: 1\n",
            "Element at Index 1: 2\n",
            "Element at Index 2: 3\n",
            "Element at Index 3: 4\n",
            "Element at Index 4: 5\n",
            "Element at Index 5: 6\n",
            "Element at Index 6: 7\n",
            "Element at Index 7: 8\n",
            "Element at Index 8: 9\n",
            "Element at Index 9: 10\n"
          ]
        }
      ]
    },
    {
      "cell_type": "markdown",
      "source": [
        "Compute the Sum"
      ],
      "metadata": {
        "id": "o2oKXNHANiRE"
      }
    },
    {
      "cell_type": "code",
      "source": [
        "total_sum = sum(numbers)\n",
        "print(\"Total Sum:\",total_sum)"
      ],
      "metadata": {
        "colab": {
          "base_uri": "https://localhost:8080/"
        },
        "id": "YmHFl1mOMqg0",
        "outputId": "c7d854f4-aa13-4126-93d1-fe3bac99d1ad"
      },
      "execution_count": 5,
      "outputs": [
        {
          "output_type": "stream",
          "name": "stdout",
          "text": [
            "Total Sum: 55\n"
          ]
        }
      ]
    },
    {
      "cell_type": "markdown",
      "source": [
        "**•\tWrite a Python program to append a new item to the end of the array. Original array: numbers = [1, 2, 3, 4, 5, 6, 7, 8, 9, 10]**"
      ],
      "metadata": {
        "id": "MOjBcKNVNyn8"
      }
    },
    {
      "cell_type": "code",
      "source": [
        "import array\n",
        "\n",
        "numbers = array.array('i', [1,2,3,4,5,6,7,8,9,10])\n",
        "print(\"Original Array:\",numbers)\n",
        "\n",
        "new_item = 11\n",
        "numbers.append(new_item)\n",
        "print(\"Updated Array:\",numbers)"
      ],
      "metadata": {
        "colab": {
          "base_uri": "https://localhost:8080/"
        },
        "id": "p8IfTteiRFiV",
        "outputId": "a0eab3e1-4561-4763-d1c0-ae70ead8fe65"
      },
      "execution_count": 10,
      "outputs": [
        {
          "output_type": "stream",
          "name": "stdout",
          "text": [
            "Original Array: array('i', [1, 2, 3, 4, 5, 6, 7, 8, 9, 10])\n",
            "Updated Array: array('i', [1, 2, 3, 4, 5, 6, 7, 8, 9, 10, 11])\n"
          ]
        }
      ]
    },
    {
      "cell_type": "markdown",
      "source": [
        "**•\tWrite a Python program to insert a new item before the second element in an existing array. Original array: numbers = [1, 2, 3, 4, 5, 6, 7, 8, 9, 10]**"
      ],
      "metadata": {
        "id": "_3xlFKLBRsVX"
      }
    },
    {
      "cell_type": "code",
      "source": [
        "import array\n",
        "\n",
        "numbers = array.array('i',[1,2,3,4,5,6,7,8,9,10])\n",
        "print(\"Original Array:\",numbers)\n",
        "\n",
        "new_item = 11\n",
        "numbers.insert(1,new_item)\n",
        "print(\"Updated Array:\",numbers)"
      ],
      "metadata": {
        "colab": {
          "base_uri": "https://localhost:8080/"
        },
        "id": "IUJLPHAlRqnM",
        "outputId": "9a39ef0f-fa74-4ed7-dfc5-da9cc431853d"
      },
      "execution_count": 13,
      "outputs": [
        {
          "output_type": "stream",
          "name": "stdout",
          "text": [
            "Original Array: array('i', [1, 2, 3, 4, 5, 6, 7, 8, 9, 10])\n",
            "Updated Array: array('i', [1, 11, 2, 3, 4, 5, 6, 7, 8, 9, 10])\n"
          ]
        }
      ]
    },
    {
      "cell_type": "markdown",
      "source": [
        "**•\tWrite a Python program to reverse the order of the items in the array. Original array: numbers = [5, 4, 3, 2, 1]**"
      ],
      "metadata": {
        "id": "_Fy1gA7oSRbe"
      }
    },
    {
      "cell_type": "code",
      "source": [
        "import array\n",
        "\n",
        "numbers = array.array('i',[5,4,3,2,1])\n",
        "print(\"Oringinal Array:\", numbers)\n",
        "\n",
        "reverse = numbers[::-1]\n",
        "print(\"Reversed Array:\",reverse)"
      ],
      "metadata": {
        "colab": {
          "base_uri": "https://localhost:8080/"
        },
        "id": "-ureT0UpSS4F",
        "outputId": "84b7d2c3-8cce-4c8c-83f0-3211d92511ca"
      },
      "execution_count": 14,
      "outputs": [
        {
          "output_type": "stream",
          "name": "stdout",
          "text": [
            "Oringinal Array: array('i', [5, 4, 3, 2, 1])\n",
            "Reversed Array: array('i', [1, 2, 3, 4, 5])\n"
          ]
        }
      ]
    },
    {
      "cell_type": "code",
      "source": [
        "numbers.reverse()\n",
        "print(\"Reversed Array:\",reverse)"
      ],
      "metadata": {
        "colab": {
          "base_uri": "https://localhost:8080/"
        },
        "id": "QUFqTe85ThJs",
        "outputId": "db3a72da-472c-4655-9169-44ee8a46b071"
      },
      "execution_count": 16,
      "outputs": [
        {
          "output_type": "stream",
          "name": "stdout",
          "text": [
            "Reversed Array: array('i', [1, 2, 3, 4, 5])\n"
          ]
        }
      ]
    },
    {
      "cell_type": "markdown",
      "source": [
        "**Write a Python program to get the length of the array. Original array: numbers = [5, 4, 3, 2, 1]**"
      ],
      "metadata": {
        "id": "vwPE6e-xTJb-"
      }
    },
    {
      "cell_type": "code",
      "source": [
        "import array\n",
        "\n",
        "numbers = array.array('i',[5,4,3,2,1])\n",
        "print(\"Original Array:\", numbers)\n",
        "\n",
        "Length = len(numbers)\n",
        "print(\"Length of the Array:\",Length)\n",
        "\n",
        "print(\"Length of the Array:\",len(numbers))"
      ],
      "metadata": {
        "colab": {
          "base_uri": "https://localhost:8080/"
        },
        "id": "lHhLbg6ETMah",
        "outputId": "e83293e2-a95f-404e-ba06-8e22ff27a395"
      },
      "execution_count": 20,
      "outputs": [
        {
          "output_type": "stream",
          "name": "stdout",
          "text": [
            "Original Array: array('i', [5, 4, 3, 2, 1])\n",
            "Length of the Array: 5\n",
            "Length of the Array: 5\n"
          ]
        }
      ]
    }
  ]
}
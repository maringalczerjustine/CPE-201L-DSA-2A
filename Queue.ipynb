{
  "nbformat": 4,
  "nbformat_minor": 0,
  "metadata": {
    "colab": {
      "provenance": [],
      "authorship_tag": "ABX9TyO+38ScWH72nqaW1zRNpB/3",
      "include_colab_link": true
    },
    "kernelspec": {
      "name": "python3",
      "display_name": "Python 3"
    },
    "language_info": {
      "name": "python"
    }
  },
  "cells": [
    {
      "cell_type": "markdown",
      "metadata": {
        "id": "view-in-github",
        "colab_type": "text"
      },
      "source": [
        "<a href=\"https://colab.research.google.com/github/maringalczerjustine/CPE-201L-DSA-2A/blob/main/Queue.ipynb\" target=\"_parent\"><img src=\"https://colab.research.google.com/assets/colab-badge.svg\" alt=\"Open In Colab\"/></a>"
      ]
    },
    {
      "cell_type": "code",
      "execution_count": 2,
      "metadata": {
        "colab": {
          "base_uri": "https://localhost:8080/"
        },
        "id": "cWD4VvMW3ARJ",
        "outputId": "b6ff25b1-94e0-4aed-96c2-eaae7b66888e"
      },
      "outputs": [
        {
          "output_type": "stream",
          "name": "stdout",
          "text": [
            "Sun added to Queue\n",
            "Mon added to Queue\n",
            "Tue added to Queue\n",
            "Wed added to Queue\n",
            "Thu added to Queue\n",
            "Fri added to Queue\n",
            "Sat added to Queue\n",
            "Sun removed from Queue\n",
            "Queue contents: ['Mon', 'Tue', 'Wed', 'Thu', 'Fri', 'Sat']\n",
            "\n",
            "Sun pushed to Stack\n",
            "Mon pushed to Stack\n",
            "Tue pushed to Stack\n",
            "Wed pushed to Stack\n",
            "Thu pushed to Stack\n",
            "Fri pushed to Stack\n",
            "Sat pushed to Stack\n",
            "Sat popped from Stack\n",
            "Stack contents: ['Sun', 'Mon', 'Tue', 'Wed', 'Thu', 'Fri']\n"
          ]
        }
      ],
      "source": [
        "# Queue Implementation (FIFO)\n",
        "class Queue:\n",
        "    def __init__(self):\n",
        "        self.items = []\n",
        "\n",
        "    def enqueue(self, data):\n",
        "        self.items.append(data)   # insert at rear\n",
        "        print(f\"{data} added to Queue\")\n",
        "\n",
        "    def dequeue(self):\n",
        "        if not self.is_empty():\n",
        "            removed = self.items.pop(0)   # remove from front\n",
        "            print(f\"{removed} removed from Queue\")\n",
        "            return removed\n",
        "        else:\n",
        "            print(\"Queue is empty!\")\n",
        "\n",
        "    def is_empty(self):\n",
        "        return len(self.items) == 0\n",
        "\n",
        "    def display(self):\n",
        "        print(\"Queue contents:\", self.items)\n",
        "\n",
        "\n",
        "# Stack Implementation (LIFO)\n",
        "class Stack:\n",
        "    def __init__(self):\n",
        "        self.items = []\n",
        "\n",
        "    def push(self, data):\n",
        "        self.items.append(data)   # insert at top\n",
        "        print(f\"{data} pushed to Stack\")\n",
        "\n",
        "    def pop(self):\n",
        "        if not self.is_empty():\n",
        "            removed = self.items.pop()   # remove last\n",
        "            print(f\"{removed} popped from Stack\")\n",
        "            return removed\n",
        "        else:\n",
        "            print(\"Stack is empty!\")\n",
        "\n",
        "    def is_empty(self):\n",
        "        return len(self.items) == 0\n",
        "\n",
        "    def display(self):\n",
        "        print(\"Stack contents:\", self.items)\n",
        "\n",
        "\n",
        "\n",
        "\n",
        "AQueue = Queue()\n",
        "AQueue.enqueue(\"Sun\")\n",
        "AQueue.enqueue(\"Mon\")\n",
        "AQueue.enqueue(\"Tue\")\n",
        "AQueue.enqueue(\"Wed\")\n",
        "AQueue.enqueue(\"Thu\")\n",
        "AQueue.enqueue(\"Fri\")\n",
        "AQueue.enqueue(\"Sat\")\n",
        "AQueue.dequeue()\n",
        "AQueue.display()\n",
        "\n",
        "print()\n",
        "\n",
        "\n",
        "AStack = Stack()\n",
        "AStack.push(\"Sun\")\n",
        "AStack.push(\"Mon\")\n",
        "AStack.push(\"Tue\")\n",
        "AStack.push(\"Wed\")\n",
        "AStack.push(\"Thu\")\n",
        "AStack.push(\"Fri\")\n",
        "AStack.push(\"Sat\")\n",
        "AStack.pop()\n",
        "AStack.display()\n"
      ]
    }
  ]
}
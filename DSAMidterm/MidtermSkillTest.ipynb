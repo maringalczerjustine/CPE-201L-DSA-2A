{
  "nbformat": 4,
  "nbformat_minor": 0,
  "metadata": {
    "colab": {
      "provenance": [],
      "authorship_tag": "ABX9TyN9SWm8PuDa+HpM12cVd5Q1",
      "include_colab_link": true
    },
    "kernelspec": {
      "name": "python3",
      "display_name": "Python 3"
    },
    "language_info": {
      "name": "python"
    }
  },
  "cells": [
    {
      "cell_type": "markdown",
      "metadata": {
        "id": "view-in-github",
        "colab_type": "text"
      },
      "source": [
        "<a href=\"https://colab.research.google.com/github/maringalczerjustine/CPE-201L-DSA-2A/blob/main/MidtermSkillTest.ipynb\" target=\"_parent\"><img src=\"https://colab.research.google.com/assets/colab-badge.svg\" alt=\"Open In Colab\"/></a>"
      ]
    },
    {
      "cell_type": "code",
      "source": [
        "def even_numbers():\n",
        "    array = []\n",
        "    for num in range(20, 50):\n",
        "        if num % 2 == 0:\n",
        "            array.append(num)\n",
        "    return array\n",
        "\n",
        "result = even_numbers()\n",
        "\n",
        "max_value = max(result)\n",
        "\n",
        "reversed_array = result[::-1]\n",
        "\n",
        "print(\" Even numbers from 20 to 50:\\n\", result)\n",
        "print(\"\\n Maximum value in the array:\\n\", max_value)\n",
        "print(\"\\n Reversed array of even numbers:\\n\", reversed_array)"
      ],
      "metadata": {
        "colab": {
          "base_uri": "https://localhost:8080/"
        },
        "id": "FgkOlGJHIWZo",
        "outputId": "a0012f7e-037e-40db-ebf1-8898cb2bf98c"
      },
      "execution_count": 57,
      "outputs": [
        {
          "output_type": "stream",
          "name": "stdout",
          "text": [
            " Even numbers from 20 to 50:\n",
            " [20, 22, 24, 26, 28, 30, 32, 34, 36, 38, 40, 42, 44, 46, 48]\n",
            "\n",
            " Maximum value in the array:\n",
            " 48\n",
            "\n",
            " Reversed array of even numbers:\n",
            " [48, 46, 44, 42, 40, 38, 36, 34, 32, 30, 28, 26, 24, 22, 20]\n"
          ]
        }
      ]
    },
    {
      "cell_type": "code",
      "source": [
        "array = [num for num in range(20, 50) if num % 2 == 0]\n",
        "\n",
        "max_value = max(array)\n",
        "\n",
        "reversed_array = array[::-1]\n",
        "\n",
        "print(\" Even numbers from 20 to 50:\\n\", array)\n",
        "print(\"\\n Maximum value in the array:\\n\", max_value)\n",
        "print(\"\\n Reversed array of even numbers:\\n\", reversed_array)"
      ],
      "metadata": {
        "colab": {
          "base_uri": "https://localhost:8080/"
        },
        "id": "IirKgDjVHHar",
        "outputId": "a2ef143c-8303-4d60-dec2-7e59aa0aa7eb"
      },
      "execution_count": 58,
      "outputs": [
        {
          "output_type": "stream",
          "name": "stdout",
          "text": [
            " Even numbers from 20 to 50:\n",
            " [20, 22, 24, 26, 28, 30, 32, 34, 36, 38, 40, 42, 44, 46, 48]\n",
            "\n",
            " Maximum value in the array:\n",
            " 48\n",
            "\n",
            " Reversed array of even numbers:\n",
            " [48, 46, 44, 42, 40, 38, 36, 34, 32, 30, 28, 26, 24, 22, 20]\n"
          ]
        }
      ]
    }
  ]
}
